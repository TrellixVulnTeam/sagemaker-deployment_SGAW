{
 "cells": [
  {
   "cell_type": "markdown",
   "metadata": {},
   "source": [
    "# Real Time Inference Endpoint"
   ]
  },
  {
   "cell_type": "markdown",
   "metadata": {},
   "source": [
    "## Deploy as Real Time Inference\n",
    "- Since the model has been trained with good accuracy we can deploy it.\n",
    "- First we need to write the 4 functions for model inference in a .py script\n",
    "- Sagemaker API documentation: https://sagemaker.readthedocs.io/en/stable/api/index.html"
   ]
  },
  {
   "cell_type": "code",
   "execution_count": null,
   "metadata": {},
   "outputs": [],
   "source": [
    "%%writefile serve.py\n",
    "\n",
    "import os\n",
    "import joblib\n",
    "import numpy as np\n",
    "\n",
    "# Load the Model\n",
    "def model_fn(model_dir):\n",
    "    pipeline_model = joblib.load(os.path.join(model_dir, model_file_name))\n",
    "    return pipeline_model\n",
    "\n",
    "# Load the input data\n",
    "def input_fn():\n",
    "    \"\"\"An input_fn that loads a pickled numpy array\"\"\"\n",
    "    if request_content_type == \"application/python-pickle\":\n",
    "        array = np.load(StringIO(request_body))\n",
    "        return array\n",
    "    else:\n",
    "        # Handle other content-types here or raise an Exception\n",
    "        # if the content type is not supported.\n",
    "        pass\n",
    "\n",
    "def predict_fn():\n",
    "    pass\n",
    "\n",
    "def output_fn():\n",
    "    pass"
   ]
  },
  {
   "cell_type": "code",
   "execution_count": null,
   "metadata": {},
   "outputs": [],
   "source": [
    "# Deploy the model\n",
    "from sagemaker.sklearn.model import SKLearnModel\n",
    "from sagemaker import get_execution_role\n",
    "\n",
    "model_artifact = \"s3://sagemaker-us-east-1-298138509966/knn-pipeline-run-2022-06-10-10-43-58-988/output/model.tar.gz\"\n",
    "\n",
    "model = SKLearnModel(\n",
    "    name=\"heart-disease-knn-pipeline-model\",\n",
    "    framework_version=\"0.23-1\",\n",
    "    entry_point=\"serve.py\",\n",
    "    dependencies=[\"requirements.txt\"],\n",
    "    model_data=model_artifact,\n",
    "    role=get_execution_role(),\n",
    ")\n",
    "\n",
    "predictor = model.deploy(instance_type=\"ml.m5.large\", initial_instance_count=1)"
   ]
  },
  {
   "cell_type": "code",
   "execution_count": null,
   "metadata": {},
   "outputs": [],
   "source": [
    "# Invoke the model\n",
    "print(predictor.predict(X_test.iloc[0:2]))"
   ]
  },
  {
   "cell_type": "code",
   "execution_count": null,
   "metadata": {},
   "outputs": [],
   "source": [
    "# Delete the endpoint\n",
    "sm_boto3.delete_endpoint(EndpointName=predictor.endpoint)"
   ]
  }
 ],
 "metadata": {
  "instance_type": "ml.t3.medium",
  "kernelspec": {
   "display_name": "Python 3 (Data Science)",
   "language": "python",
   "name": "python3__SAGEMAKER_INTERNAL__arn:aws:sagemaker:us-east-1:081325390199:image/datascience-1.0"
  },
  "language_info": {
   "codemirror_mode": {
    "name": "ipython",
    "version": 3
   },
   "file_extension": ".py",
   "mimetype": "text/x-python",
   "name": "python",
   "nbconvert_exporter": "python",
   "pygments_lexer": "ipython3",
   "version": "3.7.10"
  }
 },
 "nbformat": 4,
 "nbformat_minor": 4
}
