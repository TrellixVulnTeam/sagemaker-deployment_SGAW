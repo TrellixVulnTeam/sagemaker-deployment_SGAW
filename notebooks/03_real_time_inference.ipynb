{
 "cells": [
  {
   "cell_type": "markdown",
   "metadata": {},
   "source": [
    "# Real Time Inference Endpoint"
   ]
  },
  {
   "cell_type": "markdown",
   "metadata": {},
   "source": [
    "## Deploy as Real Time Inference\n",
    "- Since the model has been trained with good accuracy we can deploy it.\n",
    "- First we need to write the 4 functions for model inference in a .py script\n",
    "- Sagemaker API documentation: https://sagemaker.readthedocs.io/en/stable/api/index.html"
   ]
  },
  {
   "cell_type": "code",
   "execution_count": 1,
   "metadata": {},
   "outputs": [
    {
     "name": "stdout",
     "output_type": "stream",
     "text": [
      "Overwriting serve.py\n"
     ]
    }
   ],
   "source": [
    "%%writefile serve.py\n",
    "\n",
    "import os\n",
    "import json\n",
    "import joblib\n",
    "import pandas as pd\n",
    "import numpy as np\n",
    "\n",
    "# Load the Model\n",
    "def model_fn(model_dir):\n",
    "    model_file_name = \"pipeline_knn_model.joblib\"\n",
    "    pipeline_knn_model = joblib.load(os.path.join(model_dir, model_file_name))\n",
    "    \n",
    "    return pipeline_knn_model\n",
    "\n",
    "# Load the input data\n",
    "def input_fn(request_body, request_content_type):\n",
    "    \"\"\"An input_fn that loads a pickled numpy array\"\"\"\n",
    "    if request_content_type == \"application/json\":\n",
    "        data = json.loads(request_body)\n",
    "        input_object = pd.DataFrame(data)\n",
    "        \n",
    "        return input_object\n",
    "    else:\n",
    "        # Handle other content-types here or raise an Exception\n",
    "        # if the content type is not supported.\n",
    "        pass\n",
    "\n",
    "def predict_fn(input_object, pipeline_knn_model):\n",
    "    prediction = pipeline_knn_model.predict(input_object).tolist()\n",
    "    pred_prob = pipeline_knn_model.predict_proba(input_object).tolist()\n",
    "    \n",
    "    prediction_object = {\n",
    "        \"predictions\": prediction, \n",
    "        \"pred_prob\": pred_prob\n",
    "    }\n",
    "    \n",
    "    return prediction_object\n",
    "\n",
    "def output_fn(prediction_object, request_content_type):\n",
    "    return_object = json.dumps(prediction_object)\n",
    "    \n",
    "    return return_object"
   ]
  },
  {
   "cell_type": "code",
   "execution_count": 2,
   "metadata": {},
   "outputs": [
    {
     "name": "stdout",
     "output_type": "stream",
     "text": [
      "Overwriting requirements.txt\n"
     ]
    }
   ],
   "source": [
    "%%writefile requirements.txt\n",
    "pandas\n",
    "numpy"
   ]
  },
  {
   "cell_type": "code",
   "execution_count": 3,
   "metadata": {},
   "outputs": [
    {
     "name": "stderr",
     "output_type": "stream",
     "text": [
      "Using already existing model: heart-disease-knn-pipeline-model\n"
     ]
    },
    {
     "name": "stdout",
     "output_type": "stream",
     "text": [
      "------!"
     ]
    }
   ],
   "source": [
    "# Deploy the model\n",
    "from sagemaker.sklearn.model import SKLearnModel\n",
    "from sagemaker import get_execution_role\n",
    "\n",
    "model_artifact = \"s3://sagemaker-us-east-1-298138509966/knn-pipeline-run-2022-06-10-12-07-17-866/output/model.tar.gz\"\n",
    "endpoint_name = \"heart-disease-knn-pipeline-model\"\n",
    "\n",
    "model = SKLearnModel(\n",
    "    name=endpoint_name,\n",
    "    framework_version=\"0.23-1\",\n",
    "    entry_point=\"serve.py\",\n",
    "    dependencies=[\"requirements.txt\"],\n",
    "    model_data=model_artifact,\n",
    "    role=get_execution_role(),\n",
    ")\n",
    "\n",
    "predictor = model.deploy(instance_type=\"ml.m5.large\", initial_instance_count=1)"
   ]
  },
  {
   "cell_type": "code",
   "execution_count": 4,
   "metadata": {},
   "outputs": [
    {
     "name": "stdout",
     "output_type": "stream",
     "text": [
      "Endpoint name:\n",
      "heart-disease-knn-pipeline-model-2022-06-10-12-29-40-108\n"
     ]
    }
   ],
   "source": [
    "endpoint_name = predictor.endpoint_name\n",
    "print(\"Endpoint name:\")\n",
    "print(f\"{endpoint_name}\")"
   ]
  },
  {
   "cell_type": "markdown",
   "metadata": {},
   "source": [
    "## Invoke the model\n",
    "- boto3 documentation: https://boto3.amazonaws.com/v1/documentation/api/latest/index.html"
   ]
  },
  {
   "cell_type": "code",
   "execution_count": 28,
   "metadata": {},
   "outputs": [
    {
     "name": "stdout",
     "output_type": "stream",
     "text": [
      "[{'age': 45.0, 'sex': 0.0, 'cp': 2.0, 'trestbps': 112.0, 'chol': 160.0, 'fbs': 0.0, 'restecg': 0.0, 'thalach': 138.0, 'exang': 0.0, 'oldpeak': 0.0, 'slope': 2.0, 'ca': 0.0, 'thal': 3.0}, {'age': 52.0, 'sex': 1.0, 'cp': 4.0, 'trestbps': 112.0, 'chol': 230.0, 'fbs': 0.0, 'restecg': 0.0, 'thalach': 160.0, 'exang': 0.0, 'oldpeak': 0.0, 'slope': 1.0, 'ca': 1.0, 'thal': 3.0}]\n"
     ]
    },
    {
     "data": {
      "text/plain": [
       "'[{\"age\": 45.0, \"sex\": 0.0, \"cp\": 2.0, \"trestbps\": 112.0, \"chol\": 160.0, \"fbs\": 0.0, \"restecg\": 0.0, \"thalach\": 138.0, \"exang\": 0.0, \"oldpeak\": 0.0, \"slope\": 2.0, \"ca\": 0.0, \"thal\": 3.0}, {\"age\": 52.0, \"sex\": 1.0, \"cp\": 4.0, \"trestbps\": 112.0, \"chol\": 230.0, \"fbs\": 0.0, \"restecg\": 0.0, \"thalach\": 160.0, \"exang\": 0.0, \"oldpeak\": 0.0, \"slope\": 1.0, \"ca\": 1.0, \"thal\": 3.0}]'"
      ]
     },
     "execution_count": 28,
     "metadata": {},
     "output_type": "execute_result"
    }
   ],
   "source": [
    "# Load some data that we want to make predictions on\n",
    "import pandas as pd\n",
    "import json\n",
    "test_df = pd.read_csv(\"s3://sagemaker-us-east-1-298138509966/sagemaker/heart_disease/test.csv\")\n",
    "\n",
    "X_test = test_df.drop(\"target\", axis=1)\n",
    "y_test = test_df[\"target\"]\n",
    "\n",
    "# Get two rows to make predictions on\n",
    "X_pred = X_test.head(2).to_dict(orient=\"records\")\n",
    "\n",
    "# Convert the list of dictionaries to a json string\n",
    "X_pred = json.dumps(X_pred)\n",
    "X_pred"
   ]
  },
  {
   "cell_type": "code",
   "execution_count": 20,
   "metadata": {},
   "outputs": [],
   "source": [
    "# Submit to the endpoint\n",
    "import boto3\n",
    "import json\n",
    "sm_runtime = boto3.client(\"sagemaker-runtime\")\n",
    "endpoint_name = \"heart-disease-knn-pipeline-model-2022-06-10-12-29-40-108\"\n",
    "\n",
    "response = sm_runtime.invoke_endpoint(EndpointName=endpoint_name, \n",
    "                                Body=X_pred, \n",
    "                                ContentType=\"application/json\", \n",
    "                                Accept=\"application/json\")"
   ]
  },
  {
   "cell_type": "code",
   "execution_count": 21,
   "metadata": {},
   "outputs": [
    {
     "name": "stdout",
     "output_type": "stream",
     "text": [
      "{'predictions': [0, 1], 'pred_prob': [[1.0, 0.0], [0.4, 0.6]]}\n"
     ]
    }
   ],
   "source": [
    "# Decode the response from the endpoint\n",
    "response_body = response['Body']\n",
    "response_str = response_body.read().decode('utf-8')\n",
    "response_dict = json.loads(response_str)\n",
    "\n",
    "print(response_dict)"
   ]
  },
  {
   "cell_type": "markdown",
   "metadata": {},
   "source": [
    "## Cleanup\n",
    "- Delete the model\n",
    "- Delete the endpoint"
   ]
  },
  {
   "cell_type": "code",
   "execution_count": null,
   "metadata": {},
   "outputs": [],
   "source": [
    "import boto3\n",
    "sm_client = boto3.client(\"sagemaker\")\n",
    "endpoint_name = \"heart-disease-knn-pipeline-model-2022-06-10-12-29-40-108\"\n",
    "\n",
    "# Get the model name from endpoint_name\n",
    "response = sm_client.describe_endpoint_config(EndpointConfigName=endpoint_name)\n",
    "model_name = response['ProductionVariants'][0]['ModelName']\n",
    "\n",
    "# Delete the model\n",
    "sm_client.delete_model(ModelName=model_name)\n",
    "\n",
    "# Delete the endpoint\n",
    "sm_client.delete_endpoint(EndpointName=endpoint_name)"
   ]
  },
  {
   "cell_type": "code",
   "execution_count": null,
   "metadata": {},
   "outputs": [],
   "source": []
  }
 ],
 "metadata": {
  "instance_type": "ml.t3.medium",
  "kernelspec": {
   "display_name": "Python 3 (Data Science)",
   "language": "python",
   "name": "python3__SAGEMAKER_INTERNAL__arn:aws:sagemaker:us-east-1:081325390199:image/datascience-1.0"
  },
  "language_info": {
   "codemirror_mode": {
    "name": "ipython",
    "version": 3
   },
   "file_extension": ".py",
   "mimetype": "text/x-python",
   "name": "python",
   "nbconvert_exporter": "python",
   "pygments_lexer": "ipython3",
   "version": "3.7.10"
  }
 },
 "nbformat": 4,
 "nbformat_minor": 4
}
