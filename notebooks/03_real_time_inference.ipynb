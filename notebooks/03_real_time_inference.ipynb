{
 "cells": [
  {
   "cell_type": "markdown",
   "metadata": {},
   "source": [
    "# Real Time Inference Endpoint"
   ]
  },
  {
   "cell_type": "code",
   "execution_count": null,
   "metadata": {},
   "outputs": [],
   "source": [
    "!pip install -U pandas pandas-profiling scikit-learn sagemaker"
   ]
  },
  {
   "cell_type": "markdown",
   "metadata": {},
   "source": [
    "## Create the inference script\n",
    "- Since the model has been trained with good accuracy we can deploy it.\n",
    "- First we need to write the 4 functions for model inference in a .py script\n",
    "- Sagemaker API documentation: https://sagemaker.readthedocs.io/en/stable/api/index.html"
   ]
  },
  {
   "cell_type": "code",
   "execution_count": 22,
   "metadata": {},
   "outputs": [
    {
     "name": "stdout",
     "output_type": "stream",
     "text": [
      "Overwriting serve.py\n"
     ]
    }
   ],
   "source": [
    "%%writefile serve.py\n",
    "\n",
    "import os\n",
    "import joblib\n",
    "import pandas as pd\n",
    "\n",
    "# Load the Model\n",
    "def model_fn(model_dir):\n",
    "    model_file_name = \"pipeline_model.joblib\"\n",
    "    pipeline_model = joblib.load(os.path.join(model_dir, model_file_name))\n",
    "    \n",
    "    return pipeline_model\n",
    "\n",
    "# Load the input data\n",
    "def input_fn(request_body, request_content_type):\n",
    "    \"\"\"An input_fn that loads a pickled numpy array\"\"\"\n",
    "    if request_content_type == \"application/json\":\n",
    "        input_object = pd.read_json(request_body, lines=True)\n",
    "        \n",
    "        return input_object\n",
    "    else:\n",
    "        raise ValueError(\"Only application/json content type supported!\")\n",
    "\n",
    "def predict_fn(input_object, pipeline_model):\n",
    "    predictions = pipeline_model.predict(input_object)\n",
    "    pred_probs = pipeline_model.predict_proba(input_object)\n",
    "    \n",
    "    prediction_object = pd.DataFrame(\n",
    "        {\n",
    "            \"prediction\": predictions.tolist(),\n",
    "            \"pred_prob_class0\": pred_probs[:, 0].tolist(),\n",
    "            \"pred_prob_class1\": pred_probs[:, 1].tolist()\n",
    "        }\n",
    "    )\n",
    "    \n",
    "    return prediction_object\n",
    "\n",
    "def output_fn(prediction_object, request_content_type):\n",
    "    return_object = prediction_object.to_json(orient=\"records\", lines=True)\n",
    "    \n",
    "    return return_object"
   ]
  },
  {
   "cell_type": "code",
   "execution_count": 2,
   "metadata": {},
   "outputs": [
    {
     "name": "stdout",
     "output_type": "stream",
     "text": [
      "Overwriting requirements.txt\n"
     ]
    }
   ],
   "source": [
    "%%writefile requirements.txt\n",
    "pandas\n",
    "numpy"
   ]
  },
  {
   "cell_type": "markdown",
   "metadata": {},
   "source": [
    "## Real Time Endpoint Deployment"
   ]
  },
  {
   "cell_type": "code",
   "execution_count": 3,
   "metadata": {},
   "outputs": [],
   "source": [
    "# Create the deployment\n",
    "from sagemaker.sklearn.model import SKLearnModel\n",
    "from sagemaker import get_execution_role\n",
    "\n",
    "training_job_name = \"knn-pipeline-tuner-220611-0916-006-77833ec6\"\n",
    "model_artifact = f\"s3://sagemaker-us-east-1-298138509966/{training_job_name}/output/model.tar.gz\"\n",
    "endpoint_name = \"heart-disease-knn-pipeline-model\"\n",
    "\n",
    "model = SKLearnModel(\n",
    "    name=endpoint_name,\n",
    "    framework_version=\"1.0-1\",\n",
    "    entry_point=\"serve.py\",\n",
    "    dependencies=[\"requirements.txt\"],\n",
    "    model_data=model_artifact,\n",
    "    role=get_execution_role(),\n",
    ")"
   ]
  },
  {
   "cell_type": "code",
   "execution_count": 4,
   "metadata": {},
   "outputs": [
    {
     "name": "stdout",
     "output_type": "stream",
     "text": [
      "--------!"
     ]
    }
   ],
   "source": [
    "# Deploy!\n",
    "predictor = model.deploy(instance_type=\"ml.t2.medium\", initial_instance_count=1)"
   ]
  },
  {
   "cell_type": "code",
   "execution_count": 5,
   "metadata": {},
   "outputs": [
    {
     "name": "stdout",
     "output_type": "stream",
     "text": [
      "Endpoint name:\n",
      "heart-disease-knn-pipeline-model-2022-06-12-05-22-47-198\n"
     ]
    }
   ],
   "source": [
    "endpoint_name = predictor.endpoint_name\n",
    "print(\"Endpoint name:\")\n",
    "print(f\"{endpoint_name}\")"
   ]
  },
  {
   "cell_type": "markdown",
   "metadata": {},
   "source": [
    "## Invoke the model\n",
    "- boto3 documentation: https://boto3.amazonaws.com/v1/documentation/api/latest/index.html"
   ]
  },
  {
   "cell_type": "code",
   "execution_count": 6,
   "metadata": {},
   "outputs": [
    {
     "data": {
      "text/plain": [
       "'{\"age\":45.0,\"sex\":0.0,\"cp\":2.0,\"trestbps\":112.0,\"chol\":160.0,\"fbs\":0.0,\"restecg\":0.0,\"thalach\":138.0,\"exang\":0.0,\"oldpeak\":0.0,\"slope\":2.0,\"ca\":0.0,\"thal\":3.0}\\n{\"age\":52.0,\"sex\":1.0,\"cp\":4.0,\"trestbps\":112.0,\"chol\":230.0,\"fbs\":0.0,\"restecg\":0.0,\"thalach\":160.0,\"exang\":0.0,\"oldpeak\":0.0,\"slope\":1.0,\"ca\":1.0,\"thal\":3.0}\\n'"
      ]
     },
     "execution_count": 6,
     "metadata": {},
     "output_type": "execute_result"
    }
   ],
   "source": [
    "# Load some data that we want to make predictions on\n",
    "import pandas as pd\n",
    "test_df = pd.read_csv(\"s3://sagemaker-us-east-1-298138509966/sagemaker/heart_disease/test.csv\")\n",
    "\n",
    "X_test = test_df.drop(\"target\", axis=1)\n",
    "y_test = test_df[\"target\"]\n",
    "\n",
    "# Get two rows to make predictions on\n",
    "X_pred = X_test.head(2).to_json(orient=\"records\", lines=True)\n",
    "X_pred"
   ]
  },
  {
   "cell_type": "code",
   "execution_count": 16,
   "metadata": {},
   "outputs": [],
   "source": [
    "# Submit to the endpoint\n",
    "import boto3\n",
    "import json\n",
    "sm_runtime = boto3.client(\"sagemaker-runtime\")\n",
    "\n",
    "response = sm_runtime.invoke_endpoint(EndpointName=endpoint_name, \n",
    "                                      Body=X_pred, \n",
    "                                      ContentType=\"application/json\", \n",
    "                                      Accept=\"application/json\")"
   ]
  },
  {
   "cell_type": "code",
   "execution_count": 17,
   "metadata": {},
   "outputs": [
    {
     "data": {
      "text/html": [
       "<div>\n",
       "<style scoped>\n",
       "    .dataframe tbody tr th:only-of-type {\n",
       "        vertical-align: middle;\n",
       "    }\n",
       "\n",
       "    .dataframe tbody tr th {\n",
       "        vertical-align: top;\n",
       "    }\n",
       "\n",
       "    .dataframe thead th {\n",
       "        text-align: right;\n",
       "    }\n",
       "</style>\n",
       "<table border=\"1\" class=\"dataframe\">\n",
       "  <thead>\n",
       "    <tr style=\"text-align: right;\">\n",
       "      <th></th>\n",
       "      <th>prediction</th>\n",
       "      <th>pred_prob_class0</th>\n",
       "      <th>pred_prob_class1</th>\n",
       "    </tr>\n",
       "  </thead>\n",
       "  <tbody>\n",
       "    <tr>\n",
       "      <th>0</th>\n",
       "      <td>0</td>\n",
       "      <td>1.000000</td>\n",
       "      <td>0.000000</td>\n",
       "    </tr>\n",
       "    <tr>\n",
       "      <th>1</th>\n",
       "      <td>1</td>\n",
       "      <td>0.333333</td>\n",
       "      <td>0.666667</td>\n",
       "    </tr>\n",
       "  </tbody>\n",
       "</table>\n",
       "</div>"
      ],
      "text/plain": [
       "   prediction  pred_prob_class0  pred_prob_class1\n",
       "0           0          1.000000          0.000000\n",
       "1           1          0.333333          0.666667"
      ]
     },
     "execution_count": 17,
     "metadata": {},
     "output_type": "execute_result"
    }
   ],
   "source": [
    "# Decode the response from the endpoint\n",
    "response_body = response['Body']\n",
    "response_str = response_body.read().decode('utf-8')\n",
    "response_df = pd.read_json(response_str, lines=True)\n",
    "\n",
    "response_df"
   ]
  },
  {
   "cell_type": "markdown",
   "metadata": {},
   "source": [
    "## Cleanup\n",
    "- Delete the endpoint\n",
    "- Delete the endpoint config\n",
    "- Delete the model"
   ]
  },
  {
   "cell_type": "code",
   "execution_count": 19,
   "metadata": {},
   "outputs": [],
   "source": [
    "import boto3\n",
    "\n",
    "def cleanup(endpoint_name):\n",
    "    sm_client = boto3.client(\"sagemaker\")\n",
    "\n",
    "    # Get the model name from endpoint_name\n",
    "    response = sm_client.describe_endpoint_config(EndpointConfigName=endpoint_name)\n",
    "\n",
    "    # Delete the endpoint\n",
    "    sm_client.delete_endpoint(EndpointName=endpoint_name)\n",
    "\n",
    "    # Delete the endpoint config\n",
    "    endpoint_config_name = response['EndpointConfigName']\n",
    "    sm_client.delete_endpoint_config(EndpointConfigName=endpoint_config_name)                        \n",
    "\n",
    "    # Delete the model\n",
    "    model_name = response['ProductionVariants'][0]['ModelName']\n",
    "    sm_client.delete_model(ModelName=model_name)"
   ]
  },
  {
   "cell_type": "code",
   "execution_count": 20,
   "metadata": {},
   "outputs": [],
   "source": [
    "# Run the cleanup\n",
    "cleanup(endpoint_name)"
   ]
  },
  {
   "cell_type": "markdown",
   "metadata": {},
   "source": [
    "# Multi-Model Endpoint\n",
    "- You can deploy more than one model to same physical machine to save on costs!"
   ]
  },
  {
   "cell_type": "code",
   "execution_count": 3,
   "metadata": {},
   "outputs": [],
   "source": [
    "# Create the multi-model deployment\n",
    "from sagemaker.sklearn.model import SKLearnModel\n",
    "from sagemaker.multidatamodel import MultiDataModel\n",
    "from sagemaker import Session, get_execution_role\n",
    "\n",
    "mme_name = \"heart-disease-models\"\n",
    "mme_model_data_prefix = f\"s3://sagemaker-us-east-1-298138509966/{mme_name}\"\n",
    "\n",
    "# Define the base model\n",
    "base_model = SKLearnModel(\n",
    "    framework_version=\"1.0-1\",\n",
    "    entry_point=\"serve.py\",\n",
    "    dependencies=[\"requirements.txt\"],\n",
    "    model_data=None,\n",
    "    role=get_execution_role(),\n",
    "    sagemaker_session = Session()\n",
    ")\n",
    "\n",
    "# Define the multi-model\n",
    "mme = MultiDataModel(\n",
    "    name = mme_name,\n",
    "    model_data_prefix = mme_model_data_prefix,\n",
    "    model = base_model,\n",
    "    sagemaker_session = Session()\n",
    ")"
   ]
  },
  {
   "cell_type": "code",
   "execution_count": 11,
   "metadata": {},
   "outputs": [
    {
     "name": "stdout",
     "output_type": "stream",
     "text": [
      "-----------------!"
     ]
    }
   ],
   "source": [
    "# Deploy the empty multi-model!\n",
    "predictor = mme.deploy(instance_type=\"ml.t2.large\", initial_instance_count=1)"
   ]
  },
  {
   "cell_type": "code",
   "execution_count": 12,
   "metadata": {},
   "outputs": [
    {
     "data": {
      "text/plain": [
       "'s3://sagemaker-us-east-1-298138509966/heart-disease-models/knn-pipeline-run-2022-06-11-03-03-10-696_2.tar.gz'"
      ]
     },
     "execution_count": 12,
     "metadata": {},
     "output_type": "execute_result"
    }
   ],
   "source": [
    "# Add the first model to the multi-model\n",
    "training_job_name = \"knn-pipeline-tuner-220611-0916-006-77833ec6\"\n",
    "model_artifact = f\"s3://sagemaker-us-east-1-298138509966/{training_job_name}/output/model.tar.gz\"\n",
    "model_name = f\"{model_artifact.split('/')[-3]}_1.tar.gz\"\n",
    "\n",
    "mme.add_model(model_data_source=model_artifact, model_data_path=model_name)\n",
    "\n",
    "# Add the second model to the multi-model\n",
    "training_job_name = \"knn-pipeline-tuner-220611-0916-006-77833ec6\"\n",
    "model_artifact = f\"s3://sagemaker-us-east-1-298138509966/{training_job_name}/output/model.tar.gz\"\n",
    "model_name = f\"{model_artifact.split('/')[-3]}_2.tar.gz\"\n",
    "\n",
    "mme.add_model(model_data_source=model_artifact, model_data_path=model_name)"
   ]
  },
  {
   "cell_type": "code",
   "execution_count": 13,
   "metadata": {},
   "outputs": [
    {
     "data": {
      "text/plain": [
       "['/knn-pipeline-run-2022-06-11-03-03-10-696_1.tar.gz',\n",
       " '/knn-pipeline-run-2022-06-11-03-03-10-696_2.tar.gz']"
      ]
     },
     "execution_count": 13,
     "metadata": {},
     "output_type": "execute_result"
    }
   ],
   "source": [
    "# Check if all the models have been deployed\n",
    "list(mme.list_models())"
   ]
  },
  {
   "cell_type": "markdown",
   "metadata": {},
   "source": [
    "## Invoke the models\n",
    "- boto3 documentation: https://boto3.amazonaws.com/v1/documentation/api/latest/index.html"
   ]
  },
  {
   "cell_type": "code",
   "execution_count": 7,
   "metadata": {},
   "outputs": [
    {
     "data": {
      "text/plain": [
       "'[{\"age\": 45.0, \"sex\": 0.0, \"cp\": 2.0, \"trestbps\": 112.0, \"chol\": 160.0, \"fbs\": 0.0, \"restecg\": 0.0, \"thalach\": 138.0, \"exang\": 0.0, \"oldpeak\": 0.0, \"slope\": 2.0, \"ca\": 0.0, \"thal\": 3.0}, {\"age\": 52.0, \"sex\": 1.0, \"cp\": 4.0, \"trestbps\": 112.0, \"chol\": 230.0, \"fbs\": 0.0, \"restecg\": 0.0, \"thalach\": 160.0, \"exang\": 0.0, \"oldpeak\": 0.0, \"slope\": 1.0, \"ca\": 1.0, \"thal\": 3.0}]'"
      ]
     },
     "execution_count": 7,
     "metadata": {},
     "output_type": "execute_result"
    }
   ],
   "source": [
    "# Load some data that we want to make predictions on\n",
    "import pandas as pd\n",
    "import json\n",
    "test_df = pd.read_csv(\"s3://sagemaker-us-east-1-298138509966/sagemaker/heart_disease/test.csv\")\n",
    "\n",
    "X_test = test_df.drop(\"target\", axis=1)\n",
    "y_test = test_df[\"target\"]\n",
    "\n",
    "# Get two rows to make predictions on\n",
    "X_pred = X_test.head(2).to_json(orient=\"records\", lines=True)\n",
    "X_pred"
   ]
  },
  {
   "cell_type": "code",
   "execution_count": 17,
   "metadata": {},
   "outputs": [
    {
     "name": "stdout",
     "output_type": "stream",
     "text": [
      "/knn-pipeline-run-2022-06-11-03-03-10-696_1.tar.gz\n",
      "{'predictions': [0, 1], 'pred_prob': [[1.0, 0.0], [0.4, 0.6]]}\n",
      "/knn-pipeline-run-2022-06-11-03-03-10-696_2.tar.gz\n",
      "{'predictions': [0, 1], 'pred_prob': [[1.0, 0.0], [0.4, 0.6]]}\n"
     ]
    }
   ],
   "source": [
    "# Submit to the endpoint\n",
    "import boto3\n",
    "import json\n",
    "sm_runtime = boto3.client(\"sagemaker-runtime\")\n",
    "endpoint_name = mme_name\n",
    "\n",
    "# Predictions from each model\n",
    "for model_name in mme.list_models():\n",
    "    response = sm_runtime.invoke_endpoint(EndpointName=endpoint_name, \n",
    "                                          TargetModel=model_name,\n",
    "                                          Body=X_pred, \n",
    "                                          ContentType=\"application/json\", \n",
    "                                          Accept=\"application/json\")\n",
    "\n",
    "    # Decode the response from the endpoint\n",
    "    response_body = response['Body']\n",
    "    response_str = response_body.read().decode('utf-8')\n",
    "    response_dict = json.loads(response_str)\n",
    "    \n",
    "    print(model_name)\n",
    "    print(response_dict)"
   ]
  },
  {
   "cell_type": "markdown",
   "metadata": {},
   "source": [
    "## Cleanup\n",
    "- Delete the endpoint\n",
    "- Delete the endpoint config\n",
    "- Delete the model"
   ]
  },
  {
   "cell_type": "code",
   "execution_count": 18,
   "metadata": {},
   "outputs": [
    {
     "data": {
      "text/plain": [
       "{'ResponseMetadata': {'RequestId': 'f4d731a1-7bdf-4231-a7f9-0a85bc714ed1',\n",
       "  'HTTPStatusCode': 200,\n",
       "  'HTTPHeaders': {'x-amzn-requestid': 'f4d731a1-7bdf-4231-a7f9-0a85bc714ed1',\n",
       "   'content-type': 'application/x-amz-json-1.1',\n",
       "   'content-length': '0',\n",
       "   'date': 'Sat, 11 Jun 2022 03:35:27 GMT'},\n",
       "  'RetryAttempts': 0}}"
      ]
     },
     "execution_count": 18,
     "metadata": {},
     "output_type": "execute_result"
    }
   ],
   "source": [
    "# Run the cleanup\n",
    "cleanup(endpoint_name)"
   ]
  },
  {
   "cell_type": "markdown",
   "metadata": {},
   "source": [
    "# Serverless"
   ]
  },
  {
   "cell_type": "code",
   "execution_count": 4,
   "metadata": {},
   "outputs": [],
   "source": [
    "# Create the deployment\n",
    "from sagemaker.sklearn.model import SKLearnModel\n",
    "from sagemaker import get_execution_role\n",
    "\n",
    "training_job_name = \"knn-pipeline-tuner-220611-0916-006-77833ec6\"\n",
    "model_artifact = f\"s3://sagemaker-us-east-1-298138509966/{training_job_name}/output/model.tar.gz\"\n",
    "endpoint_name = \"heart-disease-knn-pipeline-model\"\n",
    "\n",
    "model = SKLearnModel(\n",
    "    name=endpoint_name,\n",
    "    framework_version=\"1.0-1\",\n",
    "    entry_point=\"serve.py\",\n",
    "    dependencies=[\"requirements.txt\"],\n",
    "    model_data=model_artifact,\n",
    "    role=get_execution_role(),\n",
    ")"
   ]
  },
  {
   "cell_type": "code",
   "execution_count": 5,
   "metadata": {},
   "outputs": [],
   "source": [
    "# NEW! Create a config for serverless inference\n",
    "from sagemaker.serverless import ServerlessInferenceConfig\n",
    "serverless_config = ServerlessInferenceConfig(memory_size_in_mb=1024, max_concurrency=3)"
   ]
  },
  {
   "cell_type": "code",
   "execution_count": 6,
   "metadata": {},
   "outputs": [
    {
     "name": "stderr",
     "output_type": "stream",
     "text": [
      "Using already existing model: heart-disease-knn-pipeline-model\n"
     ]
    },
    {
     "name": "stdout",
     "output_type": "stream",
     "text": [
      "-----------------*"
     ]
    },
    {
     "ename": "UnexpectedStatusException",
     "evalue": "Error hosting endpoint heart-disease-knn-pipeline-model-2022-06-12-04-54-34-401: Failed. Reason: Received server error (0) from model with message \"An error occurred while handling request as the model process exited.\". See https://us-east-1.console.aws.amazon.com/cloudwatch/home?region=us-east-1#logEventViewer:group=/aws/sagemaker/Endpoints/heart-disease-knn-pipeline-model-2022-06-12-04-54-34-401 in account 298138509966 for more information..",
     "output_type": "error",
     "traceback": [
      "\u001b[0;31m---------------------------------------------------------------------------\u001b[0m",
      "\u001b[0;31mUnexpectedStatusException\u001b[0m                 Traceback (most recent call last)",
      "\u001b[0;32m<ipython-input-6-afbbc91b50d4>\u001b[0m in \u001b[0;36m<module>\u001b[0;34m\u001b[0m\n\u001b[1;32m      1\u001b[0m \u001b[0;31m# NEW! Deploy!\u001b[0m\u001b[0;34m\u001b[0m\u001b[0;34m\u001b[0m\u001b[0;34m\u001b[0m\u001b[0m\n\u001b[0;32m----> 2\u001b[0;31m \u001b[0mpredictor\u001b[0m \u001b[0;34m=\u001b[0m \u001b[0mmodel\u001b[0m\u001b[0;34m.\u001b[0m\u001b[0mdeploy\u001b[0m\u001b[0;34m(\u001b[0m\u001b[0mserverless_inference_config\u001b[0m\u001b[0;34m=\u001b[0m\u001b[0mserverless_config\u001b[0m\u001b[0;34m)\u001b[0m\u001b[0;34m\u001b[0m\u001b[0;34m\u001b[0m\u001b[0m\n\u001b[0m",
      "\u001b[0;32m/opt/conda/lib/python3.7/site-packages/sagemaker/model.py\u001b[0m in \u001b[0;36mdeploy\u001b[0;34m(self, initial_instance_count, instance_type, serializer, deserializer, accelerator_type, endpoint_name, tags, kms_key, wait, data_capture_config, async_inference_config, serverless_inference_config, **kwargs)\u001b[0m\n\u001b[1;32m   1118\u001b[0m             \u001b[0mwait\u001b[0m\u001b[0;34m=\u001b[0m\u001b[0mwait\u001b[0m\u001b[0;34m,\u001b[0m\u001b[0;34m\u001b[0m\u001b[0;34m\u001b[0m\u001b[0m\n\u001b[1;32m   1119\u001b[0m             \u001b[0mdata_capture_config_dict\u001b[0m\u001b[0;34m=\u001b[0m\u001b[0mdata_capture_config_dict\u001b[0m\u001b[0;34m,\u001b[0m\u001b[0;34m\u001b[0m\u001b[0;34m\u001b[0m\u001b[0m\n\u001b[0;32m-> 1120\u001b[0;31m             \u001b[0masync_inference_config_dict\u001b[0m\u001b[0;34m=\u001b[0m\u001b[0masync_inference_config_dict\u001b[0m\u001b[0;34m,\u001b[0m\u001b[0;34m\u001b[0m\u001b[0;34m\u001b[0m\u001b[0m\n\u001b[0m\u001b[1;32m   1121\u001b[0m         )\n\u001b[1;32m   1122\u001b[0m \u001b[0;34m\u001b[0m\u001b[0m\n",
      "\u001b[0;32m/opt/conda/lib/python3.7/site-packages/sagemaker/session.py\u001b[0m in \u001b[0;36mendpoint_from_production_variants\u001b[0;34m(self, name, production_variants, tags, kms_key, wait, data_capture_config_dict, async_inference_config_dict)\u001b[0m\n\u001b[1;32m   3612\u001b[0m         \u001b[0mself\u001b[0m\u001b[0;34m.\u001b[0m\u001b[0msagemaker_client\u001b[0m\u001b[0;34m.\u001b[0m\u001b[0mcreate_endpoint_config\u001b[0m\u001b[0;34m(\u001b[0m\u001b[0;34m**\u001b[0m\u001b[0mconfig_options\u001b[0m\u001b[0;34m)\u001b[0m\u001b[0;34m\u001b[0m\u001b[0;34m\u001b[0m\u001b[0m\n\u001b[1;32m   3613\u001b[0m \u001b[0;34m\u001b[0m\u001b[0m\n\u001b[0;32m-> 3614\u001b[0;31m         \u001b[0;32mreturn\u001b[0m \u001b[0mself\u001b[0m\u001b[0;34m.\u001b[0m\u001b[0mcreate_endpoint\u001b[0m\u001b[0;34m(\u001b[0m\u001b[0mendpoint_name\u001b[0m\u001b[0;34m=\u001b[0m\u001b[0mname\u001b[0m\u001b[0;34m,\u001b[0m \u001b[0mconfig_name\u001b[0m\u001b[0;34m=\u001b[0m\u001b[0mname\u001b[0m\u001b[0;34m,\u001b[0m \u001b[0mtags\u001b[0m\u001b[0;34m=\u001b[0m\u001b[0mtags\u001b[0m\u001b[0;34m,\u001b[0m \u001b[0mwait\u001b[0m\u001b[0;34m=\u001b[0m\u001b[0mwait\u001b[0m\u001b[0;34m)\u001b[0m\u001b[0;34m\u001b[0m\u001b[0;34m\u001b[0m\u001b[0m\n\u001b[0m\u001b[1;32m   3615\u001b[0m \u001b[0;34m\u001b[0m\u001b[0m\n\u001b[1;32m   3616\u001b[0m     \u001b[0;32mdef\u001b[0m \u001b[0mexpand_role\u001b[0m\u001b[0;34m(\u001b[0m\u001b[0mself\u001b[0m\u001b[0;34m,\u001b[0m \u001b[0mrole\u001b[0m\u001b[0;34m)\u001b[0m\u001b[0;34m:\u001b[0m\u001b[0;34m\u001b[0m\u001b[0;34m\u001b[0m\u001b[0m\n",
      "\u001b[0;32m/opt/conda/lib/python3.7/site-packages/sagemaker/session.py\u001b[0m in \u001b[0;36mcreate_endpoint\u001b[0;34m(self, endpoint_name, config_name, tags, wait)\u001b[0m\n\u001b[1;32m   3086\u001b[0m         )\n\u001b[1;32m   3087\u001b[0m         \u001b[0;32mif\u001b[0m \u001b[0mwait\u001b[0m\u001b[0;34m:\u001b[0m\u001b[0;34m\u001b[0m\u001b[0;34m\u001b[0m\u001b[0m\n\u001b[0;32m-> 3088\u001b[0;31m             \u001b[0mself\u001b[0m\u001b[0;34m.\u001b[0m\u001b[0mwait_for_endpoint\u001b[0m\u001b[0;34m(\u001b[0m\u001b[0mendpoint_name\u001b[0m\u001b[0;34m)\u001b[0m\u001b[0;34m\u001b[0m\u001b[0;34m\u001b[0m\u001b[0m\n\u001b[0m\u001b[1;32m   3089\u001b[0m         \u001b[0;32mreturn\u001b[0m \u001b[0mendpoint_name\u001b[0m\u001b[0;34m\u001b[0m\u001b[0;34m\u001b[0m\u001b[0m\n\u001b[1;32m   3090\u001b[0m \u001b[0;34m\u001b[0m\u001b[0m\n",
      "\u001b[0;32m/opt/conda/lib/python3.7/site-packages/sagemaker/session.py\u001b[0m in \u001b[0;36mwait_for_endpoint\u001b[0;34m(self, endpoint, poll)\u001b[0m\n\u001b[1;32m   3397\u001b[0m                 \u001b[0mmessage\u001b[0m\u001b[0;34m=\u001b[0m\u001b[0mmessage\u001b[0m\u001b[0;34m,\u001b[0m\u001b[0;34m\u001b[0m\u001b[0;34m\u001b[0m\u001b[0m\n\u001b[1;32m   3398\u001b[0m                 \u001b[0mallowed_statuses\u001b[0m\u001b[0;34m=\u001b[0m\u001b[0;34m[\u001b[0m\u001b[0;34m\"InService\"\u001b[0m\u001b[0;34m]\u001b[0m\u001b[0;34m,\u001b[0m\u001b[0;34m\u001b[0m\u001b[0;34m\u001b[0m\u001b[0m\n\u001b[0;32m-> 3399\u001b[0;31m                 \u001b[0mactual_status\u001b[0m\u001b[0;34m=\u001b[0m\u001b[0mstatus\u001b[0m\u001b[0;34m,\u001b[0m\u001b[0;34m\u001b[0m\u001b[0;34m\u001b[0m\u001b[0m\n\u001b[0m\u001b[1;32m   3400\u001b[0m             )\n\u001b[1;32m   3401\u001b[0m         \u001b[0;32mreturn\u001b[0m \u001b[0mdesc\u001b[0m\u001b[0;34m\u001b[0m\u001b[0;34m\u001b[0m\u001b[0m\n",
      "\u001b[0;31mUnexpectedStatusException\u001b[0m: Error hosting endpoint heart-disease-knn-pipeline-model-2022-06-12-04-54-34-401: Failed. Reason: Received server error (0) from model with message \"An error occurred while handling request as the model process exited.\". See https://us-east-1.console.aws.amazon.com/cloudwatch/home?region=us-east-1#logEventViewer:group=/aws/sagemaker/Endpoints/heart-disease-knn-pipeline-model-2022-06-12-04-54-34-401 in account 298138509966 for more information.."
     ]
    }
   ],
   "source": [
    "# NEW! Deploy!\n",
    "predictor = model.deploy(serverless_inference_config=serverless_config)"
   ]
  },
  {
   "cell_type": "code",
   "execution_count": null,
   "metadata": {},
   "outputs": [],
   "source": [
    "endpoint_name = predictor.endpoint_name\n",
    "print(\"Endpoint name:\")\n",
    "print(f\"{endpoint_name}\")"
   ]
  },
  {
   "cell_type": "markdown",
   "metadata": {},
   "source": [
    "## Invoke the model\n",
    "- boto3 documentation: https://boto3.amazonaws.com/v1/documentation/api/latest/index.html"
   ]
  },
  {
   "cell_type": "code",
   "execution_count": 8,
   "metadata": {},
   "outputs": [
    {
     "data": {
      "text/plain": [
       "'[{\"age\": 45.0, \"sex\": 0.0, \"cp\": 2.0, \"trestbps\": 112.0, \"chol\": 160.0, \"fbs\": 0.0, \"restecg\": 0.0, \"thalach\": 138.0, \"exang\": 0.0, \"oldpeak\": 0.0, \"slope\": 2.0, \"ca\": 0.0, \"thal\": 3.0}, {\"age\": 52.0, \"sex\": 1.0, \"cp\": 4.0, \"trestbps\": 112.0, \"chol\": 230.0, \"fbs\": 0.0, \"restecg\": 0.0, \"thalach\": 160.0, \"exang\": 0.0, \"oldpeak\": 0.0, \"slope\": 1.0, \"ca\": 1.0, \"thal\": 3.0}]'"
      ]
     },
     "execution_count": 8,
     "metadata": {},
     "output_type": "execute_result"
    }
   ],
   "source": [
    "# Load some data that we want to make predictions on\n",
    "import pandas as pd\n",
    "import json\n",
    "test_df = pd.read_csv(\"s3://sagemaker-us-east-1-298138509966/sagemaker/heart_disease/test.csv\")\n",
    "\n",
    "X_test = test_df.drop(\"target\", axis=1)\n",
    "y_test = test_df[\"target\"]\n",
    "\n",
    "# Get two rows to make predictions on\n",
    "X_pred = X_test.head(2).to_json(orient=\"records\", lines=True)\n",
    "X_pred"
   ]
  },
  {
   "cell_type": "code",
   "execution_count": 9,
   "metadata": {},
   "outputs": [],
   "source": [
    "# Submit to the endpoint\n",
    "import boto3\n",
    "import json\n",
    "sm_runtime = boto3.client(\"sagemaker-runtime\")\n",
    "\n",
    "response = sm_runtime.invoke_endpoint(EndpointName=endpoint_name, \n",
    "                                      Body=X_pred, \n",
    "                                      ContentType=\"application/json\", \n",
    "                                      Accept=\"application/json\")"
   ]
  },
  {
   "cell_type": "code",
   "execution_count": 10,
   "metadata": {},
   "outputs": [
    {
     "name": "stdout",
     "output_type": "stream",
     "text": [
      "{'predictions': [0, 1], 'pred_prob': [[1.0, 0.0], [0.3333333333333333, 0.6666666666666666]]}\n"
     ]
    }
   ],
   "source": [
    "# Decode the response from the endpoint\n",
    "response_body = response['Body']\n",
    "response_str = response_body.read().decode('utf-8')\n",
    "response_dict = json.loads(response_str)\n",
    "\n",
    "print(response_dict)"
   ]
  },
  {
   "cell_type": "markdown",
   "metadata": {},
   "source": [
    "## Cleanup\n",
    "- Delete the endpoint\n",
    "- Delete the endpoint config\n",
    "- Delete the model"
   ]
  },
  {
   "cell_type": "code",
   "execution_count": null,
   "metadata": {},
   "outputs": [],
   "source": [
    "# Run the cleanup\n",
    "cleanup(endpoint_name)"
   ]
  },
  {
   "cell_type": "code",
   "execution_count": null,
   "metadata": {},
   "outputs": [],
   "source": []
  }
 ],
 "metadata": {
  "instance_type": "ml.t3.medium",
  "kernelspec": {
   "display_name": "Python 3 (Data Science)",
   "language": "python",
   "name": "python3__SAGEMAKER_INTERNAL__arn:aws:sagemaker:us-east-1:081325390199:image/datascience-1.0"
  },
  "language_info": {
   "codemirror_mode": {
    "name": "ipython",
    "version": 3
   },
   "file_extension": ".py",
   "mimetype": "text/x-python",
   "name": "python",
   "nbconvert_exporter": "python",
   "pygments_lexer": "ipython3",
   "version": "3.7.10"
  }
 },
 "nbformat": 4,
 "nbformat_minor": 4
}
