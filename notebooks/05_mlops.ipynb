{
 "cells": [
  {
   "cell_type": "markdown",
   "metadata": {},
   "source": [
    "# Copy files into the MLOps directory"
   ]
  },
  {
   "cell_type": "code",
   "execution_count": 1,
   "metadata": {},
   "outputs": [],
   "source": [
    "import glob\n",
    "\n",
    "# Model Build changes\n",
    "dest_dir = glob.glob(\"../../sagemaker-mlops-*/*-modelbuild\")[0]+\"/\"\n",
    "!mkdir -p ${dest_dir}/pipelines/heartdisease && cp -rf ../src/mlops-modelbuild/* $dest_dir\n",
    "\n",
    "# Model Deploy changes\n",
    "dest_dir = glob.glob(\"../../sagemaker-mlops-*/*-modeldeploy\")[0]+\"/\"\n",
    "!cp -rf ../src/mlops-modeldeploy/* $dest_dir"
   ]
  },
  {
   "cell_type": "markdown",
   "metadata": {},
   "source": [
    "## Cleanup\n",
    "- Delete the project\n",
    "- Delete the code folder\n",
    "- Delete the endpoint, endpoint config and model\n",
    "- Delete the S3 bucket"
   ]
  },
  {
   "cell_type": "code",
   "execution_count": null,
   "metadata": {},
   "outputs": [],
   "source": []
  }
 ],
 "metadata": {
  "instance_type": "ml.t3.medium",
  "kernelspec": {
   "display_name": "Python 3 (Data Science)",
   "language": "python",
   "name": "python3__SAGEMAKER_INTERNAL__arn:aws:sagemaker:us-east-1:081325390199:image/datascience-1.0"
  },
  "language_info": {
   "codemirror_mode": {
    "name": "ipython",
    "version": 3
   },
   "file_extension": ".py",
   "mimetype": "text/x-python",
   "name": "python",
   "nbconvert_exporter": "python",
   "pygments_lexer": "ipython3",
   "version": "3.7.10"
  }
 },
 "nbformat": 4,
 "nbformat_minor": 4
}
