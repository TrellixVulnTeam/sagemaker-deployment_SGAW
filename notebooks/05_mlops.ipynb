{
 "cells": [
  {
   "cell_type": "markdown",
   "metadata": {},
   "source": [
    "# Copy files into the MLOps directory"
   ]
  },
  {
   "cell_type": "code",
   "execution_count": null,
   "metadata": {},
   "outputs": [],
   "source": [
    "import glob\n",
    "\n",
    "sagemaker_project_name = \"...\" # TODO: Update this to your Sagemeker Project name!\n",
    "\n",
    "# Model Build changes\n",
    "dest_dir = glob.glob(f\"../../{sagemaker_project_name}-*/*-modelbuild\")[0]+\"/\"\n",
    "!mkdir -p ${dest_dir}/pipelines/heartdisease && cp -rf ../src/mlops-modelbuild/* $dest_dir\n",
    "\n",
    "# Model Deploy changes\n",
    "dest_dir = glob.glob(f\"../../{sagemaker_project_name}-*/*-modeldeploy\")[0]+\"/\"\n",
    "!cp -rf ../src/mlops-modeldeploy/* $dest_dir"
   ]
  },
  {
   "cell_type": "markdown",
   "metadata": {},
   "source": [
    "# Test the endpoint"
   ]
  },
  {
   "cell_type": "code",
   "execution_count": null,
   "metadata": {},
   "outputs": [],
   "source": [
    "# Load some data that we want to make predictions on\n",
    "import pandas as pd\n",
    "test_df = pd.read_csv(\"...\") # TODO: Paste the S3 path to your test.csv\n",
    "\n",
    "X_test = test_df.drop(\"target\", axis=1)\n",
    "y_test = test_df[\"target\"]\n",
    "\n",
    "# Get two rows to make predictions on\n",
    "X_pred = X_test.head(2).to_json(orient=\"records\", lines=True)\n",
    "X_pred"
   ]
  },
  {
   "cell_type": "code",
   "execution_count": null,
   "metadata": {},
   "outputs": [],
   "source": [
    "# Submit to the endpoint\n",
    "import boto3\n",
    "\n",
    "sm_runtime = boto3.client(\"sagemaker-runtime\")\n",
    "\n",
    "endpoint_name = \"...\" # TODO: Paste the name of your endpoint\n",
    "response = sm_runtime.invoke_endpoint(EndpointName=endpoint_name, \n",
    "                                      Body=X_pred, \n",
    "                                      ContentType=\"application/json\", \n",
    "                                      Accept=\"application/json\")"
   ]
  },
  {
   "cell_type": "code",
   "execution_count": null,
   "metadata": {},
   "outputs": [],
   "source": [
    "# Decode the response from the endpoint\n",
    "response_body = response['Body']\n",
    "response_str = response_body.read().decode('utf-8')\n",
    "response_df = pd.read_json(response_str, lines=True)\n",
    "\n",
    "response_df"
   ]
  },
  {
   "cell_type": "markdown",
   "metadata": {},
   "source": [
    "## Cleanup\n",
    "- Delete the project\n",
    "- Delete the code folder\n",
    "- Delete the endpoint, endpoint config and model\n",
    "- Delete the S3 bucket"
   ]
  },
  {
   "cell_type": "code",
   "execution_count": null,
   "metadata": {},
   "outputs": [],
   "source": []
  }
 ],
 "metadata": {
  "instance_type": "ml.t3.medium",
  "kernelspec": {
   "display_name": "Python 3 (Data Science)",
   "language": "python",
   "name": "python3__SAGEMAKER_INTERNAL__arn:aws:sagemaker:us-east-1:081325390199:image/datascience-1.0"
  },
  "language_info": {
   "codemirror_mode": {
    "name": "ipython",
    "version": 3
   },
   "file_extension": ".py",
   "mimetype": "text/x-python",
   "name": "python",
   "nbconvert_exporter": "python",
   "pygments_lexer": "ipython3",
   "version": "3.7.10"
  }
 },
 "nbformat": 4,
 "nbformat_minor": 4
}
